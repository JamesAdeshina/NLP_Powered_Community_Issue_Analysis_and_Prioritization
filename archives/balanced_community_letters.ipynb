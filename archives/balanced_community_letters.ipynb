{
 "cells": [
  {
   "cell_type": "code",
   "id": "initial_id",
   "metadata": {
    "collapsed": true,
    "ExecuteTime": {
     "end_time": "2025-02-21T17:03:18.832754Z",
     "start_time": "2025-02-21T17:03:14.468516Z"
    }
   },
   "source": [
    "import pandas as pd\n",
    "import matplotlib.pyplot as plt"
   ],
   "outputs": [],
   "execution_count": 2
  },
  {
   "metadata": {
    "ExecuteTime": {
     "end_time": "2025-02-21T17:14:11.326880Z",
     "start_time": "2025-02-21T17:14:09.537152Z"
    }
   },
   "cell_type": "code",
   "source": [
    "\n",
    "# Load the CSV file\n",
    "file_path = \"Data/raw/community_issues_dataset_long.csv\"\n",
    "data = pd.read_csv(file_path)"
   ],
   "id": "a9b4ceb27e183e0f",
   "outputs": [],
   "execution_count": 22
  },
  {
   "metadata": {
    "ExecuteTime": {
     "end_time": "2025-02-21T17:14:12.472593Z",
     "start_time": "2025-02-21T17:14:12.423156Z"
    }
   },
   "cell_type": "code",
   "source": [
    "# Drop the 'Category' column\n",
    "data = data.drop(columns=['Category'])\n",
    "\n",
    "# Confirm that the column is dropped by displaying the first few rows\n",
    "# data.info()\n",
    "data.tail(5)\n"
   ],
   "id": "e312d13700ee8e32",
   "outputs": [
    {
     "data": {
      "text/plain": [
       "      Issue Name Severity   Frequency Sentiment  \\\n",
       "96995     _RARE_   Medium  Occasional   Neutral   \n",
       "96996     _RARE_      Low        Rare  Positive   \n",
       "96997     _RARE_      Low  Occasional   Neutral   \n",
       "96998     _RARE_      Low  Occasional   Neutral   \n",
       "96999     _RARE_      Low        Rare  Positive   \n",
       "\n",
       "                                             Letter Text  \n",
       "96995  Dear Council,\\n\\nI am writing to formally rais...  \n",
       "96996  Dear Council,\\n\\nI am writing to formally rais...  \n",
       "96997  Dear Council,\\n\\nI am writing to formally rais...  \n",
       "96998  Dear Council,\\n\\nI am writing to formally rais...  \n",
       "96999  Dear Council,\\n\\nI am writing to formally rais...  "
      ],
      "text/html": [
       "<div>\n",
       "<style scoped>\n",
       "    .dataframe tbody tr th:only-of-type {\n",
       "        vertical-align: middle;\n",
       "    }\n",
       "\n",
       "    .dataframe tbody tr th {\n",
       "        vertical-align: top;\n",
       "    }\n",
       "\n",
       "    .dataframe thead th {\n",
       "        text-align: right;\n",
       "    }\n",
       "</style>\n",
       "<table border=\"1\" class=\"dataframe\">\n",
       "  <thead>\n",
       "    <tr style=\"text-align: right;\">\n",
       "      <th></th>\n",
       "      <th>Issue Name</th>\n",
       "      <th>Severity</th>\n",
       "      <th>Frequency</th>\n",
       "      <th>Sentiment</th>\n",
       "      <th>Letter Text</th>\n",
       "    </tr>\n",
       "  </thead>\n",
       "  <tbody>\n",
       "    <tr>\n",
       "      <th>96995</th>\n",
       "      <td>_RARE_</td>\n",
       "      <td>Medium</td>\n",
       "      <td>Occasional</td>\n",
       "      <td>Neutral</td>\n",
       "      <td>Dear Council,\\n\\nI am writing to formally rais...</td>\n",
       "    </tr>\n",
       "    <tr>\n",
       "      <th>96996</th>\n",
       "      <td>_RARE_</td>\n",
       "      <td>Low</td>\n",
       "      <td>Rare</td>\n",
       "      <td>Positive</td>\n",
       "      <td>Dear Council,\\n\\nI am writing to formally rais...</td>\n",
       "    </tr>\n",
       "    <tr>\n",
       "      <th>96997</th>\n",
       "      <td>_RARE_</td>\n",
       "      <td>Low</td>\n",
       "      <td>Occasional</td>\n",
       "      <td>Neutral</td>\n",
       "      <td>Dear Council,\\n\\nI am writing to formally rais...</td>\n",
       "    </tr>\n",
       "    <tr>\n",
       "      <th>96998</th>\n",
       "      <td>_RARE_</td>\n",
       "      <td>Low</td>\n",
       "      <td>Occasional</td>\n",
       "      <td>Neutral</td>\n",
       "      <td>Dear Council,\\n\\nI am writing to formally rais...</td>\n",
       "    </tr>\n",
       "    <tr>\n",
       "      <th>96999</th>\n",
       "      <td>_RARE_</td>\n",
       "      <td>Low</td>\n",
       "      <td>Rare</td>\n",
       "      <td>Positive</td>\n",
       "      <td>Dear Council,\\n\\nI am writing to formally rais...</td>\n",
       "    </tr>\n",
       "  </tbody>\n",
       "</table>\n",
       "</div>"
      ]
     },
     "execution_count": 23,
     "metadata": {},
     "output_type": "execute_result"
    }
   ],
   "execution_count": 23
  },
  {
   "metadata": {
    "ExecuteTime": {
     "end_time": "2025-02-21T17:38:38.588750Z",
     "start_time": "2025-02-21T17:38:38.569166Z"
    }
   },
   "cell_type": "code",
   "source": [
    "total_duplicates = data['Letter Text'].duplicated().sum()\n",
    "print(\"Total Duplicates:\", total_duplicates)"
   ],
   "id": "efd092d0d31d0294",
   "outputs": [
    {
     "name": "stdout",
     "output_type": "stream",
     "text": [
      "Total Duplicates: 96903\n"
     ]
    }
   ],
   "execution_count": 39
  },
  {
   "metadata": {
    "ExecuteTime": {
     "end_time": "2025-02-21T17:39:20.258347Z",
     "start_time": "2025-02-21T17:39:19.590667Z"
    }
   },
   "cell_type": "code",
   "source": [
    "unique_entries = data['Letter Text'].nunique()\n",
    "print(\"Unique Entries:\", unique_entries)\n"
   ],
   "id": "1651dd43ed81f236",
   "outputs": [
    {
     "name": "stdout",
     "output_type": "stream",
     "text": [
      "Unique Entries: 97\n"
     ]
    }
   ],
   "execution_count": 40
  },
  {
   "metadata": {
    "ExecuteTime": {
     "end_time": "2025-02-21T17:14:24.183981Z",
     "start_time": "2025-02-21T17:14:24.143745Z"
    }
   },
   "cell_type": "code",
   "source": [
    "\n",
    "data = data.drop('Issue Name', axis=1)\n",
    "\n",
    "# Confirm that the column is dropped by displaying the first few rows\n",
    "data.tail(5)"
   ],
   "id": "d1709ef81f2db45c",
   "outputs": [
    {
     "data": {
      "text/plain": [
       "      Severity   Frequency Sentiment  \\\n",
       "96995   Medium  Occasional   Neutral   \n",
       "96996      Low        Rare  Positive   \n",
       "96997      Low  Occasional   Neutral   \n",
       "96998      Low  Occasional   Neutral   \n",
       "96999      Low        Rare  Positive   \n",
       "\n",
       "                                             Letter Text  \n",
       "96995  Dear Council,\\n\\nI am writing to formally rais...  \n",
       "96996  Dear Council,\\n\\nI am writing to formally rais...  \n",
       "96997  Dear Council,\\n\\nI am writing to formally rais...  \n",
       "96998  Dear Council,\\n\\nI am writing to formally rais...  \n",
       "96999  Dear Council,\\n\\nI am writing to formally rais...  "
      ],
      "text/html": [
       "<div>\n",
       "<style scoped>\n",
       "    .dataframe tbody tr th:only-of-type {\n",
       "        vertical-align: middle;\n",
       "    }\n",
       "\n",
       "    .dataframe tbody tr th {\n",
       "        vertical-align: top;\n",
       "    }\n",
       "\n",
       "    .dataframe thead th {\n",
       "        text-align: right;\n",
       "    }\n",
       "</style>\n",
       "<table border=\"1\" class=\"dataframe\">\n",
       "  <thead>\n",
       "    <tr style=\"text-align: right;\">\n",
       "      <th></th>\n",
       "      <th>Severity</th>\n",
       "      <th>Frequency</th>\n",
       "      <th>Sentiment</th>\n",
       "      <th>Letter Text</th>\n",
       "    </tr>\n",
       "  </thead>\n",
       "  <tbody>\n",
       "    <tr>\n",
       "      <th>96995</th>\n",
       "      <td>Medium</td>\n",
       "      <td>Occasional</td>\n",
       "      <td>Neutral</td>\n",
       "      <td>Dear Council,\\n\\nI am writing to formally rais...</td>\n",
       "    </tr>\n",
       "    <tr>\n",
       "      <th>96996</th>\n",
       "      <td>Low</td>\n",
       "      <td>Rare</td>\n",
       "      <td>Positive</td>\n",
       "      <td>Dear Council,\\n\\nI am writing to formally rais...</td>\n",
       "    </tr>\n",
       "    <tr>\n",
       "      <th>96997</th>\n",
       "      <td>Low</td>\n",
       "      <td>Occasional</td>\n",
       "      <td>Neutral</td>\n",
       "      <td>Dear Council,\\n\\nI am writing to formally rais...</td>\n",
       "    </tr>\n",
       "    <tr>\n",
       "      <th>96998</th>\n",
       "      <td>Low</td>\n",
       "      <td>Occasional</td>\n",
       "      <td>Neutral</td>\n",
       "      <td>Dear Council,\\n\\nI am writing to formally rais...</td>\n",
       "    </tr>\n",
       "    <tr>\n",
       "      <th>96999</th>\n",
       "      <td>Low</td>\n",
       "      <td>Rare</td>\n",
       "      <td>Positive</td>\n",
       "      <td>Dear Council,\\n\\nI am writing to formally rais...</td>\n",
       "    </tr>\n",
       "  </tbody>\n",
       "</table>\n",
       "</div>"
      ]
     },
     "execution_count": 25,
     "metadata": {},
     "output_type": "execute_result"
    }
   ],
   "execution_count": 25
  },
  {
   "metadata": {
    "ExecuteTime": {
     "end_time": "2025-02-21T17:12:57.410379Z",
     "start_time": "2025-02-21T17:12:57.353886Z"
    }
   },
   "cell_type": "code",
   "source": "data.tail(5)",
   "id": "2645db266fd70da1",
   "outputs": [
    {
     "data": {
      "text/plain": [
       "      Issue Name Severity   Frequency Sentiment\n",
       "96995     _RARE_   Medium  Occasional   Neutral\n",
       "96996     _RARE_      Low        Rare  Positive\n",
       "96997     _RARE_      Low  Occasional   Neutral\n",
       "96998     _RARE_      Low  Occasional   Neutral\n",
       "96999     _RARE_      Low        Rare  Positive"
      ],
      "text/html": [
       "<div>\n",
       "<style scoped>\n",
       "    .dataframe tbody tr th:only-of-type {\n",
       "        vertical-align: middle;\n",
       "    }\n",
       "\n",
       "    .dataframe tbody tr th {\n",
       "        vertical-align: top;\n",
       "    }\n",
       "\n",
       "    .dataframe thead th {\n",
       "        text-align: right;\n",
       "    }\n",
       "</style>\n",
       "<table border=\"1\" class=\"dataframe\">\n",
       "  <thead>\n",
       "    <tr style=\"text-align: right;\">\n",
       "      <th></th>\n",
       "      <th>Issue Name</th>\n",
       "      <th>Severity</th>\n",
       "      <th>Frequency</th>\n",
       "      <th>Sentiment</th>\n",
       "    </tr>\n",
       "  </thead>\n",
       "  <tbody>\n",
       "    <tr>\n",
       "      <th>96995</th>\n",
       "      <td>_RARE_</td>\n",
       "      <td>Medium</td>\n",
       "      <td>Occasional</td>\n",
       "      <td>Neutral</td>\n",
       "    </tr>\n",
       "    <tr>\n",
       "      <th>96996</th>\n",
       "      <td>_RARE_</td>\n",
       "      <td>Low</td>\n",
       "      <td>Rare</td>\n",
       "      <td>Positive</td>\n",
       "    </tr>\n",
       "    <tr>\n",
       "      <th>96997</th>\n",
       "      <td>_RARE_</td>\n",
       "      <td>Low</td>\n",
       "      <td>Occasional</td>\n",
       "      <td>Neutral</td>\n",
       "    </tr>\n",
       "    <tr>\n",
       "      <th>96998</th>\n",
       "      <td>_RARE_</td>\n",
       "      <td>Low</td>\n",
       "      <td>Occasional</td>\n",
       "      <td>Neutral</td>\n",
       "    </tr>\n",
       "    <tr>\n",
       "      <th>96999</th>\n",
       "      <td>_RARE_</td>\n",
       "      <td>Low</td>\n",
       "      <td>Rare</td>\n",
       "      <td>Positive</td>\n",
       "    </tr>\n",
       "  </tbody>\n",
       "</table>\n",
       "</div>"
      ]
     },
     "execution_count": 21,
     "metadata": {},
     "output_type": "execute_result"
    }
   ],
   "execution_count": 21
  },
  {
   "metadata": {
    "ExecuteTime": {
     "end_time": "2025-02-21T17:14:47.740121Z",
     "start_time": "2025-02-21T17:14:47.152060Z"
    }
   },
   "cell_type": "code",
   "source": [
    "\n",
    "\n",
    "# List of columns you want to check distributions for\n",
    "columns_to_check = ['Sentiment', 'Severity']\n",
    "\n",
    "# Loop through each column and check the distribution\n",
    "for column in columns_to_check:\n",
    "    # Print the distribution of the column\n",
    "    print(f\"Distribution for {column}:\")\n",
    "    print(data[column].value_counts())\n",
    "    print(\"\\n\" + \"-\"*40)  # Separator for readability\n",
    "\n",
    "    # Plot the distribution for each column\n",
    "    plt.figure(figsize=(10, 6))\n",
    "    data[column].value_counts().plot(kind='bar', color='skyblue')\n",
    "    plt.title(f'Distribution of {column} Values')\n",
    "    plt.xlabel(column)\n",
    "    plt.ylabel('Count')\n",
    "    plt.xticks(rotation=45)\n",
    "    plt.show()"
   ],
   "id": "fd4c6345af4e7cf9",
   "outputs": [
    {
     "name": "stdout",
     "output_type": "stream",
     "text": [
      "Distribution for Sentiment:\n",
      "Sentiment\n",
      "Positive    43626\n",
      "Neutral     41002\n",
      "Negative    12372\n",
      "Name: count, dtype: int64\n",
      "\n",
      "----------------------------------------\n"
     ]
    },
    {
     "data": {
      "text/plain": [
       "<Figure size 1000x600 with 1 Axes>"
      ],
      "image/png": "[encoded data removed]"
     },
     "metadata": {},
     "output_type": "display_data"
    },
    {
     "name": "stdout",
     "output_type": "stream",
     "text": [
      "Distribution for Severity:\n",
      "Severity\n",
      "Low       41830\n",
      "Medium    37396\n",
      "High      17774\n",
      "Name: count, dtype: int64\n",
      "\n",
      "----------------------------------------\n"
     ]
    },
    {
     "data": {
      "text/plain": [
       "<Figure size 1000x600 with 1 Axes>"
      ],
      "image/png": "[encoded data removed]"
     },
     "metadata": {},
     "output_type": "display_data"
    }
   ],
   "execution_count": 26
  },
  {
   "metadata": {
    "ExecuteTime": {
     "end_time": "2025-02-21T17:15:12.610734Z",
     "start_time": "2025-02-21T17:15:10.098590Z"
    }
   },
   "cell_type": "code",
   "source": [
    "\n",
    "# Step 1: Balance based on 'Severity'\n",
    "# Find the minimum count for each 'Severity' across different 'Sentiment' groups\n",
    "severity_group_sizes = data.groupby(['Severity', 'Sentiment']).size().unstack(fill_value=0)\n",
    "min_severity_count = severity_group_sizes.min().min()  # Minimum value across the severity group combinations\n",
    "\n",
    "# Create an empty list to store the subsets after balancing 'Severity'\n",
    "balanced_severity_data = []\n",
    "\n",
    "for severity, group in data.groupby('Severity'):\n",
    "    # For each severity level, balance the 'Sentiment' groups individually\n",
    "    sentiment_groups = group.groupby('Sentiment')\n",
    "    balanced_groups = []\n",
    "\n",
    "    # For each sentiment group within the current severity, sample to match the minimum count\n",
    "    for sentiment, sentiment_group in sentiment_groups:\n",
    "        sampled_group = sentiment_group.sample(min_severity_count, random_state=42) if len(sentiment_group) > min_severity_count else sentiment_group\n",
    "        balanced_groups.append(sampled_group)\n",
    "\n",
    "    # Concatenate the balanced sentiment groups for the current severity\n",
    "    balanced_severity_data.append(pd.concat(balanced_groups))\n",
    "\n",
    "# Concatenate all the severity-balanced data into one DataFrame\n",
    "balanced_severity_data = pd.concat(balanced_severity_data)\n",
    "\n",
    "# Step 2: Now balance based on 'Sentiment'\n",
    "# For each 'Sentiment', find the minimum count across the severity levels\n",
    "sentiment_group_sizes = balanced_severity_data.groupby(['Sentiment', 'Severity']).size().unstack(fill_value=0)\n",
    "min_sentiment_count = sentiment_group_sizes.min().min()  # Minimum value across sentiment group combinations\n",
    "\n",
    "# Create an empty list to store the subsets after balancing 'Sentiment'\n",
    "final_balanced_data = []\n",
    "\n",
    "for sentiment, group in balanced_severity_data.groupby('Sentiment'):\n",
    "    # For each sentiment level, balance the 'Severity' groups individually\n",
    "    severity_groups = group.groupby('Severity')\n",
    "    balanced_groups = []\n",
    "\n",
    "    # For each severity group within the current sentiment, sample to match the minimum count\n",
    "    for severity, severity_group in severity_groups:\n",
    "        sampled_group = severity_group.sample(min_sentiment_count, random_state=42) if len(severity_group) > min_sentiment_count else severity_group\n",
    "        balanced_groups.append(sampled_group)\n",
    "\n",
    "    # Concatenate the balanced severity groups for the current sentiment\n",
    "    final_balanced_data.append(pd.concat(balanced_groups))\n",
    "\n",
    "# Concatenate all the sentiment-balanced data into one DataFrame\n",
    "final_balanced_data = pd.concat(final_balanced_data)\n",
    "\n",
    "# Reset the index of the final DataFrame\n",
    "final_balanced_data = final_balanced_data.reset_index(drop=True)\n",
    "\n",
    "# Check the distribution in the resulting dataset\n",
    "print(final_balanced_data.groupby(['Sentiment', 'Severity']).size())\n",
    "\n",
    "# Optionally, visualize the distribution\n",
    "import matplotlib.pyplot as plt\n",
    "\n",
    "# Plot the distribution for both 'Sentiment' and 'Severity'\n",
    "fig, (ax1, ax2) = plt.subplots(1, 2, figsize=(15, 6))\n",
    "\n",
    "# Sentiment distribution\n",
    "final_balanced_data['Sentiment'].value_counts().plot(kind='bar', ax=ax1, color=['skyblue', 'orange', 'green'])\n",
    "ax1.set_title('Sentiment Distribution')\n",
    "ax1.set_xlabel('Sentiment')\n",
    "ax1.set_ylabel('Count')\n",
    "\n",
    "# Severity distribution\n",
    "final_balanced_data['Severity'].value_counts().plot(kind='bar', ax=ax2, color=['skyblue', 'orange', 'green'])\n",
    "ax2.set_title('Severity Distribution')\n",
    "ax2.set_xlabel('Severity')\n",
    "ax2.set_ylabel('Count')\n",
    "\n",
    "plt.tight_layout()\n",
    "plt.show()\n"
   ],
   "id": "30f783da4186c982",
   "outputs": [
    {
     "name": "stdout",
     "output_type": "stream",
     "text": [
      "Sentiment  Severity\n",
      "Negative   High        2277\n",
      "           Low         2277\n",
      "           Medium      2277\n",
      "Neutral    High        2277\n",
      "           Low         2277\n",
      "           Medium      2277\n",
      "Positive   High        2277\n",
      "           Low         2277\n",
      "           Medium      2277\n",
      "dtype: int64\n"
     ]
    },
    {
     "data": {
      "text/plain": [
       "<Figure size 1500x600 with 2 Axes>"
      ],
      "image/png": "[encoded data removed]"
     },
     "metadata": {},
     "output_type": "display_data"
    }
   ],
   "execution_count": 27
  },
  {
   "metadata": {
    "ExecuteTime": {
     "end_time": "2025-02-21T17:15:52.366272Z",
     "start_time": "2025-02-21T17:15:52.344687Z"
    }
   },
   "cell_type": "code",
   "source": "final_balanced_data.tail()",
   "id": "fa51ae8d6f0234a0",
   "outputs": [
    {
     "data": {
      "text/plain": [
       "      Severity   Frequency Sentiment  \\\n",
       "20488   Medium  Occasional  Positive   \n",
       "20489   Medium        Rare  Positive   \n",
       "20490   Medium  Occasional  Positive   \n",
       "20491   Medium        Rare  Positive   \n",
       "20492   Medium  Occasional  Positive   \n",
       "\n",
       "                                             Letter Text  \n",
       "20488  Dear Council,\\n\\nI am writing to formally rais...  \n",
       "20489  Dear Council,\\n\\nI am writing to formally rais...  \n",
       "20490  Dear Council,\\n\\nI am writing to formally rais...  \n",
       "20491  Dear Council,\\n\\nI am writing to formally rais...  \n",
       "20492  Dear Council,\\n\\nI am writing to formally rais...  "
      ],
      "text/html": [
       "<div>\n",
       "<style scoped>\n",
       "    .dataframe tbody tr th:only-of-type {\n",
       "        vertical-align: middle;\n",
       "    }\n",
       "\n",
       "    .dataframe tbody tr th {\n",
       "        vertical-align: top;\n",
       "    }\n",
       "\n",
       "    .dataframe thead th {\n",
       "        text-align: right;\n",
       "    }\n",
       "</style>\n",
       "<table border=\"1\" class=\"dataframe\">\n",
       "  <thead>\n",
       "    <tr style=\"text-align: right;\">\n",
       "      <th></th>\n",
       "      <th>Severity</th>\n",
       "      <th>Frequency</th>\n",
       "      <th>Sentiment</th>\n",
       "      <th>Letter Text</th>\n",
       "    </tr>\n",
       "  </thead>\n",
       "  <tbody>\n",
       "    <tr>\n",
       "      <th>20488</th>\n",
       "      <td>Medium</td>\n",
       "      <td>Occasional</td>\n",
       "      <td>Positive</td>\n",
       "      <td>Dear Council,\\n\\nI am writing to formally rais...</td>\n",
       "    </tr>\n",
       "    <tr>\n",
       "      <th>20489</th>\n",
       "      <td>Medium</td>\n",
       "      <td>Rare</td>\n",
       "      <td>Positive</td>\n",
       "      <td>Dear Council,\\n\\nI am writing to formally rais...</td>\n",
       "    </tr>\n",
       "    <tr>\n",
       "      <th>20490</th>\n",
       "      <td>Medium</td>\n",
       "      <td>Occasional</td>\n",
       "      <td>Positive</td>\n",
       "      <td>Dear Council,\\n\\nI am writing to formally rais...</td>\n",
       "    </tr>\n",
       "    <tr>\n",
       "      <th>20491</th>\n",
       "      <td>Medium</td>\n",
       "      <td>Rare</td>\n",
       "      <td>Positive</td>\n",
       "      <td>Dear Council,\\n\\nI am writing to formally rais...</td>\n",
       "    </tr>\n",
       "    <tr>\n",
       "      <th>20492</th>\n",
       "      <td>Medium</td>\n",
       "      <td>Occasional</td>\n",
       "      <td>Positive</td>\n",
       "      <td>Dear Council,\\n\\nI am writing to formally rais...</td>\n",
       "    </tr>\n",
       "  </tbody>\n",
       "</table>\n",
       "</div>"
      ]
     },
     "execution_count": 30,
     "metadata": {},
     "output_type": "execute_result"
    }
   ],
   "execution_count": 30
  },
  {
   "metadata": {
    "ExecuteTime": {
     "end_time": "2025-02-21T17:16:08.145208Z",
     "start_time": "2025-02-21T17:16:08.108648Z"
    }
   },
   "cell_type": "code",
   "source": [
    "print(final_balanced_data.isnull().sum())# Check missing data\n",
    "\n"
   ],
   "id": "999026e9bf4c0c2b",
   "outputs": [
    {
     "name": "stdout",
     "output_type": "stream",
     "text": [
      "Severity       0\n",
      "Frequency      0\n",
      "Sentiment      0\n",
      "Letter Text    0\n",
      "dtype: int64\n"
     ]
    }
   ],
   "execution_count": 31
  },
  {
   "metadata": {
    "ExecuteTime": {
     "end_time": "2025-02-21T17:18:13.522668Z",
     "start_time": "2025-02-21T17:18:13.393537Z"
    }
   },
   "cell_type": "code",
   "source": [
    "\n",
    "final_balanced_data.columns = final_balanced_data.columns.str.replace(' ', '_').str.lower()\n"
   ],
   "id": "80c7c1ca9468396f",
   "outputs": [],
   "execution_count": 32
  },
  {
   "metadata": {
    "ExecuteTime": {
     "end_time": "2025-02-21T17:18:27.014121Z",
     "start_time": "2025-02-21T17:18:26.944155Z"
    }
   },
   "cell_type": "code",
   "source": "final_balanced_data.tail()",
   "id": "a820b8642380c308",
   "outputs": [
    {
     "data": {
      "text/plain": [
       "      severity   frequency sentiment  \\\n",
       "20488   Medium  Occasional  Positive   \n",
       "20489   Medium        Rare  Positive   \n",
       "20490   Medium  Occasional  Positive   \n",
       "20491   Medium        Rare  Positive   \n",
       "20492   Medium  Occasional  Positive   \n",
       "\n",
       "                                             letter_text  \n",
       "20488  Dear Council,\\n\\nI am writing to formally rais...  \n",
       "20489  Dear Council,\\n\\nI am writing to formally rais...  \n",
       "20490  Dear Council,\\n\\nI am writing to formally rais...  \n",
       "20491  Dear Council,\\n\\nI am writing to formally rais...  \n",
       "20492  Dear Council,\\n\\nI am writing to formally rais...  "
      ],
      "text/html": [
       "<div>\n",
       "<style scoped>\n",
       "    .dataframe tbody tr th:only-of-type {\n",
       "        vertical-align: middle;\n",
       "    }\n",
       "\n",
       "    .dataframe tbody tr th {\n",
       "        vertical-align: top;\n",
       "    }\n",
       "\n",
       "    .dataframe thead th {\n",
       "        text-align: right;\n",
       "    }\n",
       "</style>\n",
       "<table border=\"1\" class=\"dataframe\">\n",
       "  <thead>\n",
       "    <tr style=\"text-align: right;\">\n",
       "      <th></th>\n",
       "      <th>severity</th>\n",
       "      <th>frequency</th>\n",
       "      <th>sentiment</th>\n",
       "      <th>letter_text</th>\n",
       "    </tr>\n",
       "  </thead>\n",
       "  <tbody>\n",
       "    <tr>\n",
       "      <th>20488</th>\n",
       "      <td>Medium</td>\n",
       "      <td>Occasional</td>\n",
       "      <td>Positive</td>\n",
       "      <td>Dear Council,\\n\\nI am writing to formally rais...</td>\n",
       "    </tr>\n",
       "    <tr>\n",
       "      <th>20489</th>\n",
       "      <td>Medium</td>\n",
       "      <td>Rare</td>\n",
       "      <td>Positive</td>\n",
       "      <td>Dear Council,\\n\\nI am writing to formally rais...</td>\n",
       "    </tr>\n",
       "    <tr>\n",
       "      <th>20490</th>\n",
       "      <td>Medium</td>\n",
       "      <td>Occasional</td>\n",
       "      <td>Positive</td>\n",
       "      <td>Dear Council,\\n\\nI am writing to formally rais...</td>\n",
       "    </tr>\n",
       "    <tr>\n",
       "      <th>20491</th>\n",
       "      <td>Medium</td>\n",
       "      <td>Rare</td>\n",
       "      <td>Positive</td>\n",
       "      <td>Dear Council,\\n\\nI am writing to formally rais...</td>\n",
       "    </tr>\n",
       "    <tr>\n",
       "      <th>20492</th>\n",
       "      <td>Medium</td>\n",
       "      <td>Occasional</td>\n",
       "      <td>Positive</td>\n",
       "      <td>Dear Council,\\n\\nI am writing to formally rais...</td>\n",
       "    </tr>\n",
       "  </tbody>\n",
       "</table>\n",
       "</div>"
      ]
     },
     "execution_count": 33,
     "metadata": {},
     "output_type": "execute_result"
    }
   ],
   "execution_count": 33
  },
  {
   "metadata": {
    "ExecuteTime": {
     "end_time": "2025-02-21T17:20:11.555654Z",
     "start_time": "2025-02-21T17:20:11.446039Z"
    }
   },
   "cell_type": "code",
   "source": [
    "total_duplicates = final_balanced_data['letter_text'].duplicated().sum()\n",
    "print(\"Total Duplicates:\", total_duplicates)"
   ],
   "id": "4eadcd7fb9914de9",
   "outputs": [
    {
     "name": "stdout",
     "output_type": "stream",
     "text": [
      "Total Duplicates: 20396\n"
     ]
    }
   ],
   "execution_count": 36
  },
  {
   "metadata": {
    "ExecuteTime": {
     "end_time": "2025-02-21T17:20:18.105259Z",
     "start_time": "2025-02-21T17:20:18.013229Z"
    }
   },
   "cell_type": "code",
   "source": [
    "unique_entries = final_balanced_data['letter_text'].nunique()\n",
    "print(\"Unique Entries:\", unique_entries)\n"
   ],
   "id": "3edd98f23edf4c81",
   "outputs": [
    {
     "name": "stdout",
     "output_type": "stream",
     "text": [
      "Unique Entries: 97\n"
     ]
    }
   ],
   "execution_count": 37
  }
 ],
 "metadata": {
  "kernelspec": {
   "display_name": "Python 3",
   "language": "python",
   "name": "python3"
  },
  "language_info": {
   "codemirror_mode": {
    "name": "ipython",
    "version": 2
   },
   "file_extension": ".py",
   "mimetype": "text/x-python",
   "name": "python",
   "nbconvert_exporter": "python",
   "pygments_lexer": "ipython2",
   "version": "2.7.6"
  }
 },
 "nbformat": 4,
 "nbformat_minor": 5
}
