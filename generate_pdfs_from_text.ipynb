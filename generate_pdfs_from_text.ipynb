{
 "cells": [
  {
   "cell_type": "code",
   "execution_count": null,
   "id": "initial_id",
   "metadata": {
    "collapsed": true
   },
   "outputs": [],
   "source": "from fpdf import FPDF"
  },
  {
   "metadata": {},
   "cell_type": "code",
   "outputs": [],
   "execution_count": null,
   "source": [
    "# Sample data: List of 10 rows of text\n",
    "text_data = [\n",
    "    \"Row 1 text goes here.\",\n",
    "    \"Row 2 text goes here.\",\n",
    "    \"Row 3 text goes here.\",\n",
    "    \"Row 4 text goes here.\",\n",
    "    \"Row 5 text goes here.\",\n",
    "    \"Row 6 text goes here.\",\n",
    "    \"Row 7 text goes here.\",\n",
    "    \"Row 8 text goes here.\",\n",
    "    \"Row 9 text goes here.\",\n",
    "    \"Row 10 text goes here.\"\n",
    "]"
   ],
   "id": "cc732eedb8ba204c"
  },
  {
   "metadata": {},
   "cell_type": "code",
   "outputs": [],
   "execution_count": null,
   "source": [
    "# Function to generate PDF for each row of text\n",
    "def create_pdf(text, filename):\n",
    "    pdf = FPDF()\n",
    "    pdf.add_page()\n",
    "\n",
    "    pdf.set_font(\"Arial\", size=12)\n",
    "    pdf.multi_cell(0, 10, text)  # Adds the text to the PDF with line breaks\n",
    "\n",
    "    pdf.output(filename)\n"
   ],
   "id": "a2239783686a0dc6"
  }
 ],
 "metadata": {
  "kernelspec": {
   "display_name": "Python 3",
   "language": "python",
   "name": "python3"
  },
  "language_info": {
   "codemirror_mode": {
    "name": "ipython",
    "version": 2
   },
   "file_extension": ".py",
   "mimetype": "text/x-python",
   "name": "python",
   "nbconvert_exporter": "python",
   "pygments_lexer": "ipython2",
   "version": "2.7.6"
  }
 },
 "nbformat": 4,
 "nbformat_minor": 5
}
